{
 "cells": [
  {
   "cell_type": "code",
   "execution_count": 1,
   "metadata": {
    "collapsed": true,
    "pycharm": {
     "name": "#%%\n"
    }
   },
   "outputs": [],
   "source": [
    "import pandas as pd"
   ]
  },
  {
   "cell_type": "code",
   "execution_count": 72,
   "outputs": [
    {
     "data": {
      "text/plain": "1072119"
     },
     "execution_count": 72,
     "metadata": {},
     "output_type": "execute_result"
    }
   ],
   "source": [
    "df = pd.read_csv('../data/javascript/package-json.csv')\n",
    "len(df)"
   ],
   "metadata": {
    "collapsed": false,
    "pycharm": {
     "name": "#%%\n"
    }
   }
  },
  {
   "cell_type": "code",
   "execution_count": 73,
   "outputs": [
    {
     "data": {
      "text/plain": "                         repo_name   license                     description  \\\n0        LockwoodSoftware/football       mit                             NaN   \n1  mattmcmanus/atom-ember-snippets       mit  Ember.js ES6 Snippets for Atom   \n2  MatthiasKainer/robbie-the-robot  agpl-3.0                             NaN   \n3    xiewulong/express-auto-server       mit             express auto server   \n4     tameemsafi/uk-tax-calculator   gpl-3.0                             NaN   \n\n                                        dependencies  \n0  body-parser|cookie-parser|debug|express|jade|m...  \n1                                  atom-package-deps  \n2  @types/async|@types/body-parser|@types/cookie-...  \n3  body-parser|cookie-parser|express|express-auto...  \n4                               @types/object-assign  ",
      "text/html": "<div>\n<style scoped>\n    .dataframe tbody tr th:only-of-type {\n        vertical-align: middle;\n    }\n\n    .dataframe tbody tr th {\n        vertical-align: top;\n    }\n\n    .dataframe thead th {\n        text-align: right;\n    }\n</style>\n<table border=\"1\" class=\"dataframe\">\n  <thead>\n    <tr style=\"text-align: right;\">\n      <th></th>\n      <th>repo_name</th>\n      <th>license</th>\n      <th>description</th>\n      <th>dependencies</th>\n    </tr>\n  </thead>\n  <tbody>\n    <tr>\n      <th>0</th>\n      <td>LockwoodSoftware/football</td>\n      <td>mit</td>\n      <td>NaN</td>\n      <td>body-parser|cookie-parser|debug|express|jade|m...</td>\n    </tr>\n    <tr>\n      <th>1</th>\n      <td>mattmcmanus/atom-ember-snippets</td>\n      <td>mit</td>\n      <td>Ember.js ES6 Snippets for Atom</td>\n      <td>atom-package-deps</td>\n    </tr>\n    <tr>\n      <th>2</th>\n      <td>MatthiasKainer/robbie-the-robot</td>\n      <td>agpl-3.0</td>\n      <td>NaN</td>\n      <td>@types/async|@types/body-parser|@types/cookie-...</td>\n    </tr>\n    <tr>\n      <th>3</th>\n      <td>xiewulong/express-auto-server</td>\n      <td>mit</td>\n      <td>express auto server</td>\n      <td>body-parser|cookie-parser|express|express-auto...</td>\n    </tr>\n    <tr>\n      <th>4</th>\n      <td>tameemsafi/uk-tax-calculator</td>\n      <td>gpl-3.0</td>\n      <td>NaN</td>\n      <td>@types/object-assign</td>\n    </tr>\n  </tbody>\n</table>\n</div>"
     },
     "execution_count": 73,
     "metadata": {},
     "output_type": "execute_result"
    }
   ],
   "source": [
    "df.head()"
   ],
   "metadata": {
    "collapsed": false,
    "pycharm": {
     "name": "#%%\n"
    }
   }
  },
  {
   "cell_type": "code",
   "execution_count": 76,
   "outputs": [],
   "source": [
    "deps = df.set_index('repo_name').dependencies.str.split('|').explode()"
   ],
   "metadata": {
    "collapsed": false,
    "pycharm": {
     "name": "#%%\n"
    }
   }
  },
  {
   "cell_type": "code",
   "execution_count": 77,
   "outputs": [
    {
     "data": {
      "text/plain": "repo_name\nLockwoodSoftware/football        body-parser\nLockwoodSoftware/football      cookie-parser\nLockwoodSoftware/football              debug\nLockwoodSoftware/football            express\nLockwoodSoftware/football               jade\n                                   ...      \nWifsimster/datagamer                 unirest\nWifsimster/datagamer                   unzip\nWifsimster/datagamer                 winston\nhvenables/thermostat_tueday          express\nbehavejs/behave-events                     q\nName: dependencies, Length: 9125109, dtype: object"
     },
     "execution_count": 77,
     "metadata": {},
     "output_type": "execute_result"
    }
   ],
   "source": [
    "deps"
   ],
   "metadata": {
    "collapsed": false,
    "pycharm": {
     "name": "#%%\n"
    }
   }
  },
  {
   "cell_type": "code",
   "execution_count": 78,
   "outputs": [
    {
     "data": {
      "text/plain": "express         268029\nlodash          158436\nbody-parser     141378\nreact           105915\nrequest          93930\n                 ...  \nsham                 3\nshapeways            3\nshare-auth           3\nshare-wisdom         3\n@ephox/robin         3\nName: dependencies, Length: 121385, dtype: int64"
     },
     "execution_count": 78,
     "metadata": {},
     "output_type": "execute_result"
    }
   ],
   "source": [
    "deps.value_counts()"
   ],
   "metadata": {
    "collapsed": false,
    "pycharm": {
     "name": "#%%\n"
    }
   }
  },
  {
   "cell_type": "code",
   "execution_count": 79,
   "outputs": [],
   "source": [
    "import re\n",
    "topic_pat = re.compile(r'@?(\\w+)/.*')\n",
    "def dep_to_topic(s: str) -> str:\n",
    "    if m := topic_pat.fullmatch(s):\n",
    "        return m.group(1)\n",
    "    return s"
   ],
   "metadata": {
    "collapsed": false,
    "pycharm": {
     "name": "#%%\n"
    }
   }
  },
  {
   "cell_type": "code",
   "execution_count": 83,
   "outputs": [],
   "source": [
    "topics = deps.fillna('').apply(dep_to_topic)"
   ],
   "metadata": {
    "collapsed": false,
    "pycharm": {
     "name": "#%%\n"
    }
   }
  },
  {
   "cell_type": "code",
   "execution_count": 84,
   "outputs": [
    {
     "data": {
      "text/plain": "express            268029\nangular            252453\nlodash             158436\nbody-parser        141378\nreact              105942\n                    ...  \nroundate                3\nrouta                   3\nroute-active            3\nroute-analytics         3\noscar-ui                3\nName: dependencies, Length: 113699, dtype: int64"
     },
     "execution_count": 84,
     "metadata": {},
     "output_type": "execute_result"
    }
   ],
   "source": [
    "topics.value_counts()"
   ],
   "metadata": {
    "collapsed": false,
    "pycharm": {
     "name": "#%%\n"
    }
   }
  },
  {
   "cell_type": "code",
   "execution_count": 89,
   "outputs": [],
   "source": [
    "%matplotlib inline"
   ],
   "metadata": {
    "collapsed": false,
    "pycharm": {
     "name": "#%%\n"
    }
   }
  },
  {
   "cell_type": "code",
   "execution_count": 101,
   "outputs": [],
   "source": [
    "topic_counts = topics.value_counts()"
   ],
   "metadata": {
    "collapsed": false,
    "pycharm": {
     "name": "#%%\n"
    }
   }
  },
  {
   "cell_type": "code",
   "execution_count": 103,
   "outputs": [
    {
     "data": {
      "text/plain": "<AxesSubplot:>"
     },
     "execution_count": 103,
     "metadata": {},
     "output_type": "execute_result"
    },
    {
     "data": {
      "text/plain": "<Figure size 432x288 with 1 Axes>",
      "image/png": "[encoded data removed]"
     },
     "metadata": {
      "needs_background": "light"
     },
     "output_type": "display_data"
    }
   ],
   "source": [
    "topic_counts[:1000].hist(bins=25)"
   ],
   "metadata": {
    "collapsed": false,
    "pycharm": {
     "name": "#%%\n"
    }
   }
  },
  {
   "cell_type": "code",
   "execution_count": 104,
   "outputs": [
    {
     "data": {
      "text/plain": "count    113699.000000\nmean         80.256722\nstd        1708.150176\nmin           3.000000\n25%           3.000000\n50%           3.000000\n75%          12.000000\nmax      268029.000000\nName: dependencies, dtype: float64"
     },
     "execution_count": 104,
     "metadata": {},
     "output_type": "execute_result"
    }
   ],
   "source": [
    "topic_counts.describe()"
   ],
   "metadata": {
    "collapsed": false,
    "pycharm": {
     "name": "#%%\n"
    }
   }
  },
  {
   "cell_type": "code",
   "execution_count": 106,
   "outputs": [
    {
     "data": {
      "text/plain": "0.75     12.0\n0.80     15.0\n0.85     24.0\n0.90     42.0\n0.95    111.0\n0.99    852.0\nName: dependencies, dtype: float64"
     },
     "execution_count": 106,
     "metadata": {},
     "output_type": "execute_result"
    }
   ],
   "source": [
    "topic_counts.quantile([.75, .8, .85, .9, .95, .99])"
   ],
   "metadata": {
    "collapsed": false,
    "pycharm": {
     "name": "#%%\n"
    }
   }
  },
  {
   "cell_type": "code",
   "execution_count": 107,
   "outputs": [
    {
     "data": {
      "text/plain": "6065"
     },
     "execution_count": 107,
     "metadata": {},
     "output_type": "execute_result"
    }
   ],
   "source": [
    "sum(topic_counts >= 100)"
   ],
   "metadata": {
    "collapsed": false,
    "pycharm": {
     "name": "#%%\n"
    }
   }
  }
 ],
 "metadata": {
  "kernelspec": {
   "display_name": "Python 3",
   "language": "python",
   "name": "python3"
  },
  "language_info": {
   "codemirror_mode": {
    "name": "ipython",
    "version": 2
   },
   "file_extension": ".py",
   "mimetype": "text/x-python",
   "name": "python",
   "nbconvert_exporter": "python",
   "pygments_lexer": "ipython2",
   "version": "2.7.6"
  }
 },
 "nbformat": 4,
 "nbformat_minor": 0
}